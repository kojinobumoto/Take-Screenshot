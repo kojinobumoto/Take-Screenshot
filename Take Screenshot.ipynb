{
 "cells": [
  {
   "cell_type": "markdown",
   "metadata": {},
   "source": [
    "## Take the screenshot of the specified URLs.\n",
    "+ Saves a full screen screenshot as a png image file.\n",
    "+ The browser is not visually displayed because chromedriver is running in headless mode to capture the full screen.\n",
    "+ Since chrome in eadless mode does not support BASIC authentication, this tool does not support BASIC authentication either.\n",
    "    + \"The team owning Headleass Chrome has decided not to support extensions.\"\n",
    "    +  https://bugs.chromium.org/p/chromedriver/issues/detail?id=2342\n",
    "    +  https://bugs.chromium.org/p/chromium/issues/detail?id=706008\n",
    "\n",
    "### Usage\n",
    "+ Enter the target URL (and ID) in a CSV file in the following format. The file will be read and the screenshot will be acquired.\n",
    "    + Format\n",
    "        + ID,URL\n",
    "            + Only ASCII characters can be specified for ID (no multibyte characters)\n",
    "            + [Reason] Because OpenCV does not accept double-byte characters in the filename when using it in the next step (#Image Difference with OpenCV\").\n",
    "    + write 1 URL per line.\n",
    "    + Save the file in UTF-8 encoding.\n",
    "    + URL lists are assumed to be placed directly under the \". /url-lists\" folder.\n",
    "    + Select the URL lists (CSV file) name under the \"./url-lists\" to load as interactive.\n",
    "+ Save the screenshot as \"ID.png\".\n",
    "    + saved png image location.\n",
    "        + The 'screenshot-YYYYYYMMDD-hhmmss' directory (where YYYYYMMDD-HHMMS is the start date and time) just under the directory where this program is run.\n",
    "+ By default, processes are created for the number of CPU cores in the execution environment and processed in parallel. To adjust, change the \"num_processors\" variable.\n",
    "+ The results of the execution (the pair of the URL and the png image file name) are output as a CSV file named \"results-YYYYYMMMDD-HHMMMSS.csv\" (the YYYYYMMDD-HHMMMSS part corresponds to the directory name where the image is saved)."
   ]
  },
  {
   "cell_type": "code",
   "execution_count": 1,
   "metadata": {},
   "outputs": [],
   "source": [
    "import time\n",
    "import datetime\n",
    "from selenium import webdriver\n",
    "from selenium.webdriver.common.by import By\n",
    "from selenium.webdriver import ActionChains\n",
    "from selenium.webdriver.chrome.options import Options\n",
    "from selenium.common.exceptions import NoSuchElementException\n",
    "import zipfile\n",
    "import os\n",
    "import csv\n",
    "from pathlib import Path\n",
    "\n",
    "import multiprocessing as mp\n",
    "\n",
    "from ipywidgets import interact, widgets\n",
    "import re\n",
    "\n",
    "import requests"
   ]
  },
  {
   "cell_type": "markdown",
   "metadata": {},
   "source": [
    "# main"
   ]
  },
  {
   "cell_type": "markdown",
   "metadata": {},
   "source": [
    "### Interactively select CSV file name to load."
   ]
  },
  {
   "cell_type": "code",
   "execution_count": null,
   "metadata": {
    "scrolled": true
   },
   "outputs": [],
   "source": [
    "DIR_URL_LISTS = 'url-lists/'\n",
    "\n",
    "files = [f for f in os.listdir(DIR_URL_LISTS) if re.search('.*(csv)', f, re.IGNORECASE)]\n",
    "\n",
    "URL_LISTS_FILE = widgets.Text()\n",
    "\n",
    "def url_csv_filename(file):\n",
    "    URL_LISTS_FILE.value = file\n",
    "\n",
    "interact(url_csv_filename, file=files)"
   ]
  },
  {
   "cell_type": "code",
   "execution_count": null,
   "metadata": {},
   "outputs": [],
   "source": [
    "print('> The selected file is \"{URL_LISTS_FILE.value}\"')"
   ]
  },
  {
   "cell_type": "markdown",
   "metadata": {},
   "source": [
    "### calls worker"
   ]
  },
  {
   "cell_type": "code",
   "execution_count": 2,
   "metadata": {},
   "outputs": [],
   "source": [
    "skipUntil = 0 # 1 -> skip 1st line. 200 -> skip first 200 lines.\n",
    "stopAt = -1 # 2 -> stop after reading 2 lines. 200 -> stop after reading 200 lines. -1 -> read all lines."
   ]
  },
  {
   "cell_type": "code",
   "execution_count": null,
   "metadata": {},
   "outputs": [],
   "source": [
    "#####\n",
    "# * note\n",
    "# When you re-run the program after editting module files,\n",
    "# you'd better to restart the jupyter kernel, especially after editting settings.py.\n",
    "#####\n",
    "\n",
    "from mymodules import settings\n",
    "from mymodules import workers\n",
    "\n",
    "# Multiprocessing in Python on Windows and Jupyter/Ipython — Making it work\n",
    "# https://medium.com/@grvsinghal/speed-up-your-python-code-using-multiprocessing-on-windows-and-jupyter-or-ipython-2714b49d6fac\n",
    "\n",
    "\n",
    "\n",
    "if __name__ == '__main__':\n",
    "    \n",
    "    try:\n",
    "        num_processors = mp.cpu_count()\n",
    "        # num_processors = 1\n",
    "        \n",
    "        index = 0\n",
    "        arr_url_lists = []\n",
    "        \n",
    "        obj_path_to_input_file = Path(DIR_URL_LISTS, Path(URL_LISTS_FILE.value))\n",
    "        with open(obj_path_to_input_file, newline='',encoding=\"utf-8_sig\") as f:\n",
    "            reader = csv.reader(f)\n",
    "            for row in reader:\n",
    "                \n",
    "                index += 1\n",
    "                \n",
    "                file_id = row[0]\n",
    "                url = \",\".join(row[1:])\n",
    "                \n",
    "                if index <= skipUntil:\n",
    "                    continue\n",
    "                if stopAt > 0 and stopAt == index:\n",
    "                    arr_url_lists.append([file_id, url])\n",
    "                    print(f'url in writer() : {file_id} - {url}')\n",
    "                    break\n",
    "                print(f'url in writer() : {file_id} - {url}')\n",
    "                arr_url_lists.append([file_id, url])              \n",
    "        \n",
    "        time_start = time.time()\n",
    "        \n",
    "        str_start_datetime = datetime.datetime.now().strftime('%Y%m%d-%H%M%S')\n",
    "        print(f'Start at {str_start_datetime}')\n",
    "        \n",
    "        p = mp.Pool(processes = num_processors, initializer = workers.ts_init, initargs= [str_start_datetime])\n",
    "        arr_result = p.starmap(workers.take_screenshot, arr_url_lists)\n",
    "        \n",
    "        time_end = time.time()\n",
    "        time_diff = time_end - time_start\n",
    "        str_end_datetime = datetime.datetime.now().strftime('%Y%m%d-%H%M%S')\n",
    "\n",
    "        print(f'time : {time_diff}')\n",
    "        \n",
    "        with open('results-' + str_start_datetime + '.csv', 'a',encoding=\"utf-8_sig\") as result_file:\n",
    "            for ar in arr_result:\n",
    "                # ar's shape is [url, image_filename]\n",
    "                result_file.write(f'\"{ar[0]}\",\"{ar[1]}\"\\n')\n",
    "        print(\"done\")\n",
    "        \n",
    "    except Exception as ex:\n",
    "        print(f'{type(ex).__name__}: {ex}')\n",
    "        raise\n",
    "    finally:\n",
    "        pass"
   ]
  }
 ],
 "metadata": {
  "kernelspec": {
   "display_name": "Python 3",
   "language": "python",
   "name": "python3"
  },
  "language_info": {
   "codemirror_mode": {
    "name": "ipython",
    "version": 3
   },
   "file_extension": ".py",
   "mimetype": "text/x-python",
   "name": "python",
   "nbconvert_exporter": "python",
   "pygments_lexer": "ipython3",
   "version": "3.11.4"
  },
  "varInspector": {
   "cols": {
    "lenName": 16,
    "lenType": 16,
    "lenVar": 40
   },
   "kernels_config": {
    "python": {
     "delete_cmd_postfix": "",
     "delete_cmd_prefix": "del ",
     "library": "var_list.py",
     "varRefreshCmd": "print(var_dic_list())"
    },
    "r": {
     "delete_cmd_postfix": ") ",
     "delete_cmd_prefix": "rm(",
     "library": "var_list.r",
     "varRefreshCmd": "cat(var_dic_list()) "
    }
   },
   "types_to_exclude": [
    "module",
    "function",
    "builtin_function_or_method",
    "instance",
    "_Feature"
   ],
   "window_display": false
  }
 },
 "nbformat": 4,
 "nbformat_minor": 4
}
